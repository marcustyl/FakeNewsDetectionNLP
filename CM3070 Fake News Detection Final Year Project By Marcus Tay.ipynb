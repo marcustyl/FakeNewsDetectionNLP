{
 "cells": [
  {
   "cell_type": "markdown",
   "id": "93813e86",
   "metadata": {},
   "source": [
    "## Importing Libraries"
   ]
  },
  {
   "cell_type": "code",
   "execution_count": 87,
   "id": "6bc91f24",
   "metadata": {
    "scrolled": true
   },
   "outputs": [],
   "source": [
    "#Importing basic libraries and operations\n",
    "import pandas as pd\n",
    "import numpy as np\n",
    "import re\n",
    "import string"
   ]
  },
  {
   "cell_type": "code",
   "execution_count": 88,
   "id": "3df2e278",
   "metadata": {},
   "outputs": [],
   "source": [
    "#Importing ntlk libraries for language processing\n",
    "from nltk.corpus import stopwords"
   ]
  },
  {
   "cell_type": "code",
   "execution_count": 89,
   "id": "39020e06",
   "metadata": {},
   "outputs": [],
   "source": [
    "#Import machine learning libraries and features\n",
    "from sklearn.model_selection import train_test_split\n",
    "from sklearn.metrics import accuracy_score\n",
    "from sklearn.metrics import classification_report\n",
    "from sklearn.feature_extraction.text import TfidfVectorizer\n",
    "from textstat import gunning_fog\n",
    "import spacy"
   ]
  },
  {
   "cell_type": "code",
   "execution_count": 90,
   "id": "fb5d0e66",
   "metadata": {},
   "outputs": [],
   "source": [
    "#Importing Different Models\n",
    "from sklearn.linear_model import PassiveAggressiveClassifier\n",
    "from sklearn.linear_model import LogisticRegression\n",
    "from sklearn.naive_bayes import MultinomialNB\n",
    "from xgboost import XGBClassifier"
   ]
  },
  {
   "cell_type": "markdown",
   "id": "c51ea14a",
   "metadata": {},
   "source": [
    "## Importing Of Datasets"
   ]
  },
  {
   "cell_type": "code",
   "execution_count": 91,
   "id": "66ee78da",
   "metadata": {},
   "outputs": [],
   "source": [
    "#Reading of csv files\n",
    "try:\n",
    "    realnews_df = pd.read_csv('real.csv')\n",
    "    fakenews_df = pd.read_csv('fake.csv')\n",
    "\n",
    "except:\n",
    "    print(\"csv files cannot be read\")"
   ]
  },
  {
   "cell_type": "code",
   "execution_count": 92,
   "id": "e06ab7e4",
   "metadata": {},
   "outputs": [
    {
     "data": {
      "text/html": [
       "<div>\n",
       "<style scoped>\n",
       "    .dataframe tbody tr th:only-of-type {\n",
       "        vertical-align: middle;\n",
       "    }\n",
       "\n",
       "    .dataframe tbody tr th {\n",
       "        vertical-align: top;\n",
       "    }\n",
       "\n",
       "    .dataframe thead th {\n",
       "        text-align: right;\n",
       "    }\n",
       "</style>\n",
       "<table border=\"1\" class=\"dataframe\">\n",
       "  <thead>\n",
       "    <tr style=\"text-align: right;\">\n",
       "      <th></th>\n",
       "      <th>title</th>\n",
       "      <th>text</th>\n",
       "      <th>subject</th>\n",
       "      <th>date</th>\n",
       "    </tr>\n",
       "  </thead>\n",
       "  <tbody>\n",
       "    <tr>\n",
       "      <th>0</th>\n",
       "      <td>As U.S. budget fight looms, Republicans flip t...</td>\n",
       "      <td>WASHINGTON (Reuters) - The head of a conservat...</td>\n",
       "      <td>politicsNews</td>\n",
       "      <td>December 31, 2017</td>\n",
       "    </tr>\n",
       "    <tr>\n",
       "      <th>1</th>\n",
       "      <td>U.S. military to accept transgender recruits o...</td>\n",
       "      <td>WASHINGTON (Reuters) - Transgender people will...</td>\n",
       "      <td>politicsNews</td>\n",
       "      <td>December 29, 2017</td>\n",
       "    </tr>\n",
       "    <tr>\n",
       "      <th>2</th>\n",
       "      <td>Senior U.S. Republican senator: 'Let Mr. Muell...</td>\n",
       "      <td>WASHINGTON (Reuters) - The special counsel inv...</td>\n",
       "      <td>politicsNews</td>\n",
       "      <td>December 31, 2017</td>\n",
       "    </tr>\n",
       "    <tr>\n",
       "      <th>3</th>\n",
       "      <td>FBI Russia probe helped by Australian diplomat...</td>\n",
       "      <td>WASHINGTON (Reuters) - Trump campaign adviser ...</td>\n",
       "      <td>politicsNews</td>\n",
       "      <td>December 30, 2017</td>\n",
       "    </tr>\n",
       "    <tr>\n",
       "      <th>4</th>\n",
       "      <td>Trump wants Postal Service to charge 'much mor...</td>\n",
       "      <td>SEATTLE/WASHINGTON (Reuters) - President Donal...</td>\n",
       "      <td>politicsNews</td>\n",
       "      <td>December 29, 2017</td>\n",
       "    </tr>\n",
       "    <tr>\n",
       "      <th>5</th>\n",
       "      <td>White House, Congress prepare for talks on spe...</td>\n",
       "      <td>WEST PALM BEACH, Fla./WASHINGTON (Reuters) - T...</td>\n",
       "      <td>politicsNews</td>\n",
       "      <td>December 29, 2017</td>\n",
       "    </tr>\n",
       "    <tr>\n",
       "      <th>6</th>\n",
       "      <td>Trump says Russia probe will be fair, but time...</td>\n",
       "      <td>WEST PALM BEACH, Fla (Reuters) - President Don...</td>\n",
       "      <td>politicsNews</td>\n",
       "      <td>December 29, 2017</td>\n",
       "    </tr>\n",
       "    <tr>\n",
       "      <th>7</th>\n",
       "      <td>Factbox: Trump on Twitter (Dec 29) - Approval ...</td>\n",
       "      <td>The following statements were posted to the ve...</td>\n",
       "      <td>politicsNews</td>\n",
       "      <td>December 29, 2017</td>\n",
       "    </tr>\n",
       "    <tr>\n",
       "      <th>8</th>\n",
       "      <td>Trump on Twitter (Dec 28) - Global Warming</td>\n",
       "      <td>The following statements were posted to the ve...</td>\n",
       "      <td>politicsNews</td>\n",
       "      <td>December 29, 2017</td>\n",
       "    </tr>\n",
       "    <tr>\n",
       "      <th>9</th>\n",
       "      <td>Alabama official to certify Senator-elect Jone...</td>\n",
       "      <td>WASHINGTON (Reuters) - Alabama Secretary of St...</td>\n",
       "      <td>politicsNews</td>\n",
       "      <td>December 28, 2017</td>\n",
       "    </tr>\n",
       "  </tbody>\n",
       "</table>\n",
       "</div>"
      ],
      "text/plain": [
       "                                               title  \\\n",
       "0  As U.S. budget fight looms, Republicans flip t...   \n",
       "1  U.S. military to accept transgender recruits o...   \n",
       "2  Senior U.S. Republican senator: 'Let Mr. Muell...   \n",
       "3  FBI Russia probe helped by Australian diplomat...   \n",
       "4  Trump wants Postal Service to charge 'much mor...   \n",
       "5  White House, Congress prepare for talks on spe...   \n",
       "6  Trump says Russia probe will be fair, but time...   \n",
       "7  Factbox: Trump on Twitter (Dec 29) - Approval ...   \n",
       "8         Trump on Twitter (Dec 28) - Global Warming   \n",
       "9  Alabama official to certify Senator-elect Jone...   \n",
       "\n",
       "                                                text       subject  \\\n",
       "0  WASHINGTON (Reuters) - The head of a conservat...  politicsNews   \n",
       "1  WASHINGTON (Reuters) - Transgender people will...  politicsNews   \n",
       "2  WASHINGTON (Reuters) - The special counsel inv...  politicsNews   \n",
       "3  WASHINGTON (Reuters) - Trump campaign adviser ...  politicsNews   \n",
       "4  SEATTLE/WASHINGTON (Reuters) - President Donal...  politicsNews   \n",
       "5  WEST PALM BEACH, Fla./WASHINGTON (Reuters) - T...  politicsNews   \n",
       "6  WEST PALM BEACH, Fla (Reuters) - President Don...  politicsNews   \n",
       "7  The following statements were posted to the ve...  politicsNews   \n",
       "8  The following statements were posted to the ve...  politicsNews   \n",
       "9  WASHINGTON (Reuters) - Alabama Secretary of St...  politicsNews   \n",
       "\n",
       "                 date  \n",
       "0  December 31, 2017   \n",
       "1  December 29, 2017   \n",
       "2  December 31, 2017   \n",
       "3  December 30, 2017   \n",
       "4  December 29, 2017   \n",
       "5  December 29, 2017   \n",
       "6  December 29, 2017   \n",
       "7  December 29, 2017   \n",
       "8  December 29, 2017   \n",
       "9  December 28, 2017   "
      ]
     },
     "execution_count": 92,
     "metadata": {},
     "output_type": "execute_result"
    }
   ],
   "source": [
    "#First 10 readings of real news\n",
    "realnews_df.head(10)"
   ]
  },
  {
   "cell_type": "code",
   "execution_count": 93,
   "id": "ff562164",
   "metadata": {
    "scrolled": true
   },
   "outputs": [
    {
     "data": {
      "text/html": [
       "<div>\n",
       "<style scoped>\n",
       "    .dataframe tbody tr th:only-of-type {\n",
       "        vertical-align: middle;\n",
       "    }\n",
       "\n",
       "    .dataframe tbody tr th {\n",
       "        vertical-align: top;\n",
       "    }\n",
       "\n",
       "    .dataframe thead th {\n",
       "        text-align: right;\n",
       "    }\n",
       "</style>\n",
       "<table border=\"1\" class=\"dataframe\">\n",
       "  <thead>\n",
       "    <tr style=\"text-align: right;\">\n",
       "      <th></th>\n",
       "      <th>title</th>\n",
       "      <th>text</th>\n",
       "      <th>subject</th>\n",
       "      <th>date</th>\n",
       "    </tr>\n",
       "  </thead>\n",
       "  <tbody>\n",
       "    <tr>\n",
       "      <th>0</th>\n",
       "      <td>Donald Trump Sends Out Embarrassing New Year’...</td>\n",
       "      <td>Donald Trump just couldn t wish all Americans ...</td>\n",
       "      <td>News</td>\n",
       "      <td>December 31, 2017</td>\n",
       "    </tr>\n",
       "    <tr>\n",
       "      <th>1</th>\n",
       "      <td>Drunk Bragging Trump Staffer Started Russian ...</td>\n",
       "      <td>House Intelligence Committee Chairman Devin Nu...</td>\n",
       "      <td>News</td>\n",
       "      <td>December 31, 2017</td>\n",
       "    </tr>\n",
       "    <tr>\n",
       "      <th>2</th>\n",
       "      <td>Sheriff David Clarke Becomes An Internet Joke...</td>\n",
       "      <td>On Friday, it was revealed that former Milwauk...</td>\n",
       "      <td>News</td>\n",
       "      <td>December 30, 2017</td>\n",
       "    </tr>\n",
       "    <tr>\n",
       "      <th>3</th>\n",
       "      <td>Trump Is So Obsessed He Even Has Obama’s Name...</td>\n",
       "      <td>On Christmas day, Donald Trump announced that ...</td>\n",
       "      <td>News</td>\n",
       "      <td>December 29, 2017</td>\n",
       "    </tr>\n",
       "    <tr>\n",
       "      <th>4</th>\n",
       "      <td>Pope Francis Just Called Out Donald Trump Dur...</td>\n",
       "      <td>Pope Francis used his annual Christmas Day mes...</td>\n",
       "      <td>News</td>\n",
       "      <td>December 25, 2017</td>\n",
       "    </tr>\n",
       "    <tr>\n",
       "      <th>5</th>\n",
       "      <td>Racist Alabama Cops Brutalize Black Boy While...</td>\n",
       "      <td>The number of cases of cops brutalizing and ki...</td>\n",
       "      <td>News</td>\n",
       "      <td>December 25, 2017</td>\n",
       "    </tr>\n",
       "    <tr>\n",
       "      <th>6</th>\n",
       "      <td>Fresh Off The Golf Course, Trump Lashes Out A...</td>\n",
       "      <td>Donald Trump spent a good portion of his day a...</td>\n",
       "      <td>News</td>\n",
       "      <td>December 23, 2017</td>\n",
       "    </tr>\n",
       "    <tr>\n",
       "      <th>7</th>\n",
       "      <td>Trump Said Some INSANELY Racist Stuff Inside ...</td>\n",
       "      <td>In the wake of yet another court decision that...</td>\n",
       "      <td>News</td>\n",
       "      <td>December 23, 2017</td>\n",
       "    </tr>\n",
       "    <tr>\n",
       "      <th>8</th>\n",
       "      <td>Former CIA Director Slams Trump Over UN Bully...</td>\n",
       "      <td>Many people have raised the alarm regarding th...</td>\n",
       "      <td>News</td>\n",
       "      <td>December 22, 2017</td>\n",
       "    </tr>\n",
       "    <tr>\n",
       "      <th>9</th>\n",
       "      <td>WATCH: Brand-New Pro-Trump Ad Features So Muc...</td>\n",
       "      <td>Just when you might have thought we d get a br...</td>\n",
       "      <td>News</td>\n",
       "      <td>December 21, 2017</td>\n",
       "    </tr>\n",
       "  </tbody>\n",
       "</table>\n",
       "</div>"
      ],
      "text/plain": [
       "                                               title  \\\n",
       "0   Donald Trump Sends Out Embarrassing New Year’...   \n",
       "1   Drunk Bragging Trump Staffer Started Russian ...   \n",
       "2   Sheriff David Clarke Becomes An Internet Joke...   \n",
       "3   Trump Is So Obsessed He Even Has Obama’s Name...   \n",
       "4   Pope Francis Just Called Out Donald Trump Dur...   \n",
       "5   Racist Alabama Cops Brutalize Black Boy While...   \n",
       "6   Fresh Off The Golf Course, Trump Lashes Out A...   \n",
       "7   Trump Said Some INSANELY Racist Stuff Inside ...   \n",
       "8   Former CIA Director Slams Trump Over UN Bully...   \n",
       "9   WATCH: Brand-New Pro-Trump Ad Features So Muc...   \n",
       "\n",
       "                                                text subject  \\\n",
       "0  Donald Trump just couldn t wish all Americans ...    News   \n",
       "1  House Intelligence Committee Chairman Devin Nu...    News   \n",
       "2  On Friday, it was revealed that former Milwauk...    News   \n",
       "3  On Christmas day, Donald Trump announced that ...    News   \n",
       "4  Pope Francis used his annual Christmas Day mes...    News   \n",
       "5  The number of cases of cops brutalizing and ki...    News   \n",
       "6  Donald Trump spent a good portion of his day a...    News   \n",
       "7  In the wake of yet another court decision that...    News   \n",
       "8  Many people have raised the alarm regarding th...    News   \n",
       "9  Just when you might have thought we d get a br...    News   \n",
       "\n",
       "                date  \n",
       "0  December 31, 2017  \n",
       "1  December 31, 2017  \n",
       "2  December 30, 2017  \n",
       "3  December 29, 2017  \n",
       "4  December 25, 2017  \n",
       "5  December 25, 2017  \n",
       "6  December 23, 2017  \n",
       "7  December 23, 2017  \n",
       "8  December 22, 2017  \n",
       "9  December 21, 2017  "
      ]
     },
     "execution_count": 93,
     "metadata": {},
     "output_type": "execute_result"
    }
   ],
   "source": [
    "#First 10 readings of fake news\n",
    "fakenews_df.head(10)"
   ]
  },
  {
   "cell_type": "code",
   "execution_count": 94,
   "id": "d98323b0",
   "metadata": {},
   "outputs": [],
   "source": [
    "#Creating a new column called \"type\" to represent real or fake news \n",
    "realnews_df[\"type\"] = 1\n",
    "fakenews_df[\"type\"] = 0"
   ]
  },
  {
   "cell_type": "code",
   "execution_count": 95,
   "id": "79507ddd",
   "metadata": {
    "scrolled": true
   },
   "outputs": [
    {
     "data": {
      "text/html": [
       "<div>\n",
       "<style scoped>\n",
       "    .dataframe tbody tr th:only-of-type {\n",
       "        vertical-align: middle;\n",
       "    }\n",
       "\n",
       "    .dataframe tbody tr th {\n",
       "        vertical-align: top;\n",
       "    }\n",
       "\n",
       "    .dataframe thead th {\n",
       "        text-align: right;\n",
       "    }\n",
       "</style>\n",
       "<table border=\"1\" class=\"dataframe\">\n",
       "  <thead>\n",
       "    <tr style=\"text-align: right;\">\n",
       "      <th></th>\n",
       "      <th>title</th>\n",
       "      <th>text</th>\n",
       "      <th>subject</th>\n",
       "      <th>date</th>\n",
       "      <th>type</th>\n",
       "    </tr>\n",
       "  </thead>\n",
       "  <tbody>\n",
       "    <tr>\n",
       "      <th>0</th>\n",
       "      <td>As U.S. budget fight looms, Republicans flip t...</td>\n",
       "      <td>WASHINGTON (Reuters) - The head of a conservat...</td>\n",
       "      <td>politicsNews</td>\n",
       "      <td>December 31, 2017</td>\n",
       "      <td>1</td>\n",
       "    </tr>\n",
       "  </tbody>\n",
       "</table>\n",
       "</div>"
      ],
      "text/plain": [
       "                                               title  \\\n",
       "0  As U.S. budget fight looms, Republicans flip t...   \n",
       "\n",
       "                                                text       subject  \\\n",
       "0  WASHINGTON (Reuters) - The head of a conservat...  politicsNews   \n",
       "\n",
       "                 date  type  \n",
       "0  December 31, 2017      1  "
      ]
     },
     "execution_count": 95,
     "metadata": {},
     "output_type": "execute_result"
    }
   ],
   "source": [
    "#Example of the updated dataframe for real news \n",
    "realnews_df.head(1)"
   ]
  },
  {
   "cell_type": "code",
   "execution_count": 96,
   "id": "4b89305d",
   "metadata": {
    "scrolled": true
   },
   "outputs": [
    {
     "data": {
      "text/html": [
       "<div>\n",
       "<style scoped>\n",
       "    .dataframe tbody tr th:only-of-type {\n",
       "        vertical-align: middle;\n",
       "    }\n",
       "\n",
       "    .dataframe tbody tr th {\n",
       "        vertical-align: top;\n",
       "    }\n",
       "\n",
       "    .dataframe thead th {\n",
       "        text-align: right;\n",
       "    }\n",
       "</style>\n",
       "<table border=\"1\" class=\"dataframe\">\n",
       "  <thead>\n",
       "    <tr style=\"text-align: right;\">\n",
       "      <th></th>\n",
       "      <th>title</th>\n",
       "      <th>text</th>\n",
       "      <th>subject</th>\n",
       "      <th>date</th>\n",
       "      <th>type</th>\n",
       "    </tr>\n",
       "  </thead>\n",
       "  <tbody>\n",
       "    <tr>\n",
       "      <th>0</th>\n",
       "      <td>Donald Trump Sends Out Embarrassing New Year’...</td>\n",
       "      <td>Donald Trump just couldn t wish all Americans ...</td>\n",
       "      <td>News</td>\n",
       "      <td>December 31, 2017</td>\n",
       "      <td>0</td>\n",
       "    </tr>\n",
       "  </tbody>\n",
       "</table>\n",
       "</div>"
      ],
      "text/plain": [
       "                                               title  \\\n",
       "0   Donald Trump Sends Out Embarrassing New Year’...   \n",
       "\n",
       "                                                text subject  \\\n",
       "0  Donald Trump just couldn t wish all Americans ...    News   \n",
       "\n",
       "                date  type  \n",
       "0  December 31, 2017     0  "
      ]
     },
     "execution_count": 96,
     "metadata": {},
     "output_type": "execute_result"
    }
   ],
   "source": [
    "#Example of the updated dataframe for fake news\n",
    "fakenews_df.head(1)"
   ]
  },
  {
   "cell_type": "markdown",
   "id": "1d2e7f6d",
   "metadata": {},
   "source": [
    "## Merging Real News and Fake News Dataframes"
   ]
  },
  {
   "cell_type": "code",
   "execution_count": 97,
   "id": "15756153",
   "metadata": {},
   "outputs": [],
   "source": [
    "merged_df = pd.concat([realnews_df,fakenews_df], axis = 0)"
   ]
  },
  {
   "cell_type": "code",
   "execution_count": 98,
   "id": "bc085b54",
   "metadata": {},
   "outputs": [
    {
     "data": {
      "text/plain": [
       "(44898, 5)"
      ]
     },
     "execution_count": 98,
     "metadata": {},
     "output_type": "execute_result"
    }
   ],
   "source": [
    "#Size of Merged Dataframe\n",
    "merged_df.shape"
   ]
  },
  {
   "cell_type": "code",
   "execution_count": 99,
   "id": "315bddae",
   "metadata": {},
   "outputs": [
    {
     "data": {
      "text/plain": [
       "Index(['title', 'text', 'subject', 'date', 'type'], dtype='object')"
      ]
     },
     "execution_count": 99,
     "metadata": {},
     "output_type": "execute_result"
    }
   ],
   "source": [
    "#List out the existing columns of the newly merged dataframe\n",
    "merged_df.columns"
   ]
  },
  {
   "cell_type": "code",
   "execution_count": 100,
   "id": "f345acd3",
   "metadata": {
    "scrolled": false
   },
   "outputs": [
    {
     "data": {
      "text/html": [
       "<div>\n",
       "<style scoped>\n",
       "    .dataframe tbody tr th:only-of-type {\n",
       "        vertical-align: middle;\n",
       "    }\n",
       "\n",
       "    .dataframe tbody tr th {\n",
       "        vertical-align: top;\n",
       "    }\n",
       "\n",
       "    .dataframe thead th {\n",
       "        text-align: right;\n",
       "    }\n",
       "</style>\n",
       "<table border=\"1\" class=\"dataframe\">\n",
       "  <thead>\n",
       "    <tr style=\"text-align: right;\">\n",
       "      <th></th>\n",
       "      <th>title</th>\n",
       "      <th>text</th>\n",
       "      <th>subject</th>\n",
       "      <th>date</th>\n",
       "      <th>type</th>\n",
       "    </tr>\n",
       "  </thead>\n",
       "  <tbody>\n",
       "    <tr>\n",
       "      <th>16381</th>\n",
       "      <td>Islamic State claims responsibility for attack...</td>\n",
       "      <td>CAIRO (Reuters) - Islamic State has claimed re...</td>\n",
       "      <td>worldnews</td>\n",
       "      <td>October 26, 2017</td>\n",
       "      <td>1</td>\n",
       "    </tr>\n",
       "    <tr>\n",
       "      <th>18723</th>\n",
       "      <td>Migrant smuggling crackdown triggered clashes ...</td>\n",
       "      <td>TRIPOLI (Reuters) - An armed group in the Liby...</td>\n",
       "      <td>worldnews</td>\n",
       "      <td>September 29, 2017</td>\n",
       "      <td>1</td>\n",
       "    </tr>\n",
       "    <tr>\n",
       "      <th>9012</th>\n",
       "      <td>Watch Heartbreaking Cries From An Abused Pupp...</td>\n",
       "      <td>A video of a terrified and previously abused p...</td>\n",
       "      <td>News</td>\n",
       "      <td>January 2, 2016</td>\n",
       "      <td>0</td>\n",
       "    </tr>\n",
       "    <tr>\n",
       "      <th>8059</th>\n",
       "      <td>U.S. lawmakers accuse Russia of seeking to inf...</td>\n",
       "      <td>WASHINGTON (Reuters) - The top Democrats on th...</td>\n",
       "      <td>politicsNews</td>\n",
       "      <td>September 22, 2016</td>\n",
       "      <td>1</td>\n",
       "    </tr>\n",
       "    <tr>\n",
       "      <th>14043</th>\n",
       "      <td>Aid agencies say Yemen blockade remains, Egela...</td>\n",
       "      <td>GENEVA (Reuters) - The Saudi-led coalition s b...</td>\n",
       "      <td>worldnews</td>\n",
       "      <td>November 23, 2017</td>\n",
       "      <td>1</td>\n",
       "    </tr>\n",
       "    <tr>\n",
       "      <th>2064</th>\n",
       "      <td>As tax debate heats up, Republicans tweak busi...</td>\n",
       "      <td>WASHINGTON (Reuters) - Congressional Republica...</td>\n",
       "      <td>politicsNews</td>\n",
       "      <td>August 22, 2017</td>\n",
       "      <td>1</td>\n",
       "    </tr>\n",
       "    <tr>\n",
       "      <th>7519</th>\n",
       "      <td>Legendary Investigative Journalist Carl Berns...</td>\n",
       "      <td>Veteran investigative reporter Carl Bernstein ...</td>\n",
       "      <td>News</td>\n",
       "      <td>March 13, 2016</td>\n",
       "      <td>0</td>\n",
       "    </tr>\n",
       "    <tr>\n",
       "      <th>11329</th>\n",
       "      <td>ONE HILARIOUS TWEET Perfectly Sums Up How Irre...</td>\n",
       "      <td>Nunes dropped a bombshell that Obama admin spi...</td>\n",
       "      <td>politics</td>\n",
       "      <td>Mar 23, 2017</td>\n",
       "      <td>0</td>\n",
       "    </tr>\n",
       "    <tr>\n",
       "      <th>342</th>\n",
       "      <td>Trump to nominate former NASA chief Griffin fo...</td>\n",
       "      <td>WASHINGTON (Reuters) - U.S. President Donald T...</td>\n",
       "      <td>politicsNews</td>\n",
       "      <td>December 5, 2017</td>\n",
       "      <td>1</td>\n",
       "    </tr>\n",
       "    <tr>\n",
       "      <th>926</th>\n",
       "      <td>WH Starts Condensing Intel Briefings Into Twe...</td>\n",
       "      <td>Donald Trump s obsession with Twitter and inab...</td>\n",
       "      <td>News</td>\n",
       "      <td>July 5, 2017</td>\n",
       "      <td>0</td>\n",
       "    </tr>\n",
       "  </tbody>\n",
       "</table>\n",
       "</div>"
      ],
      "text/plain": [
       "                                                   title  \\\n",
       "16381  Islamic State claims responsibility for attack...   \n",
       "18723  Migrant smuggling crackdown triggered clashes ...   \n",
       "9012    Watch Heartbreaking Cries From An Abused Pupp...   \n",
       "8059   U.S. lawmakers accuse Russia of seeking to inf...   \n",
       "14043  Aid agencies say Yemen blockade remains, Egela...   \n",
       "2064   As tax debate heats up, Republicans tweak busi...   \n",
       "7519    Legendary Investigative Journalist Carl Berns...   \n",
       "11329  ONE HILARIOUS TWEET Perfectly Sums Up How Irre...   \n",
       "342    Trump to nominate former NASA chief Griffin fo...   \n",
       "926     WH Starts Condensing Intel Briefings Into Twe...   \n",
       "\n",
       "                                                    text       subject  \\\n",
       "16381  CAIRO (Reuters) - Islamic State has claimed re...     worldnews   \n",
       "18723  TRIPOLI (Reuters) - An armed group in the Liby...     worldnews   \n",
       "9012   A video of a terrified and previously abused p...          News   \n",
       "8059   WASHINGTON (Reuters) - The top Democrats on th...  politicsNews   \n",
       "14043  GENEVA (Reuters) - The Saudi-led coalition s b...     worldnews   \n",
       "2064   WASHINGTON (Reuters) - Congressional Republica...  politicsNews   \n",
       "7519   Veteran investigative reporter Carl Bernstein ...          News   \n",
       "11329  Nunes dropped a bombshell that Obama admin spi...      politics   \n",
       "342    WASHINGTON (Reuters) - U.S. President Donald T...  politicsNews   \n",
       "926    Donald Trump s obsession with Twitter and inab...          News   \n",
       "\n",
       "                      date  type  \n",
       "16381    October 26, 2017      1  \n",
       "18723  September 29, 2017      1  \n",
       "9012       January 2, 2016     0  \n",
       "8059   September 22, 2016      1  \n",
       "14043   November 23, 2017      1  \n",
       "2064      August 22, 2017      1  \n",
       "7519        March 13, 2016     0  \n",
       "11329         Mar 23, 2017     0  \n",
       "342      December 5, 2017      1  \n",
       "926           July 5, 2017     0  "
      ]
     },
     "execution_count": 100,
     "metadata": {},
     "output_type": "execute_result"
    }
   ],
   "source": [
    "#First 10 readings of the new merged dataframe\n",
    "merged_df.sample(10)"
   ]
  },
  {
   "cell_type": "markdown",
   "id": "3e77e996",
   "metadata": {},
   "source": [
    "## Data PreProcessing"
   ]
  },
  {
   "cell_type": "code",
   "execution_count": 101,
   "id": "35df0ee3",
   "metadata": {
    "scrolled": true
   },
   "outputs": [
    {
     "data": {
      "text/plain": [
       "title      0\n",
       "text       0\n",
       "subject    0\n",
       "date       0\n",
       "type       0\n",
       "dtype: int64"
      ]
     },
     "execution_count": 101,
     "metadata": {},
     "output_type": "execute_result"
    }
   ],
   "source": [
    "#Checking for null values in the dataframe\n",
    "merged_df.isnull().sum()"
   ]
  },
  {
   "cell_type": "code",
   "execution_count": 102,
   "id": "c4be4cad",
   "metadata": {},
   "outputs": [],
   "source": [
    "#Dropping unecessary columns\n",
    "updated_df = merged_df.drop([\"title\", \"subject\", \"date\"], axis = 1)"
   ]
  },
  {
   "cell_type": "code",
   "execution_count": 103,
   "id": "089baa31",
   "metadata": {},
   "outputs": [
    {
     "data": {
      "text/plain": [
       "(44898, 2)"
      ]
     },
     "execution_count": 103,
     "metadata": {},
     "output_type": "execute_result"
    }
   ],
   "source": [
    "#Verifying the new size of the updated dataframe\n",
    "updated_df.shape"
   ]
  },
  {
   "cell_type": "code",
   "execution_count": 104,
   "id": "d7e81749",
   "metadata": {},
   "outputs": [],
   "source": [
    "#Removing duplicate entries from the dataframe\n",
    "updated_df.drop_duplicates(inplace = True)"
   ]
  },
  {
   "cell_type": "code",
   "execution_count": 105,
   "id": "9a91a829",
   "metadata": {},
   "outputs": [],
   "source": [
    "#Initialise Stopwords\n",
    "stop_words = stopwords.words('english')"
   ]
  },
  {
   "cell_type": "code",
   "execution_count": 106,
   "id": "047a6414",
   "metadata": {},
   "outputs": [],
   "source": [
    "#Text Cleaning\n",
    "def text_cleaning(text):\n",
    "    \n",
    "    #Changes the text to all lowercase\n",
    "    text = text.lower()\n",
    "    \n",
    "    #Removes punctuation\n",
    "    text = re.sub('\\[.*?\\]', '', text)\n",
    "    text = re.sub('<.*?>+', '', text)\n",
    "    text = re.sub('[%s]' % re.escape(string.punctuation), '', text)\n",
    "    \n",
    "    #Remove metacharacter patterns\n",
    "    text = re.sub(\"\\\\W\",\" \",text) \n",
    "    \n",
    "    #Removes the urls\n",
    "    text = re.sub('https?://\\S+|www\\.\\S+', '', text)\n",
    "    \n",
    "    #Removes the new line spacings\n",
    "    text = re.sub('\\n', '', text)\n",
    "    \n",
    "    #Removes digits\n",
    "    text = re.sub('\\w*\\d\\w*', '', text)\n",
    "    \n",
    "    #Remove stopwords\n",
    "    text = ' '.join([word for word in text.split() if word.lower() not in stop_words])\n",
    "    \n",
    "    return text"
   ]
  },
  {
   "cell_type": "code",
   "execution_count": 107,
   "id": "6390aa72",
   "metadata": {},
   "outputs": [],
   "source": [
    "#Applying the compiled text processing function to clean the dataframe text\n",
    "updated_df[\"text\"] = updated_df[\"text\"].apply(text_cleaning)"
   ]
  },
  {
   "cell_type": "code",
   "execution_count": 112,
   "id": "1a60d084",
   "metadata": {},
   "outputs": [],
   "source": [
    "def calculate_gfi(text):\n",
    "    return gunning_fog(text)\n",
    "\n",
    "# Calculate GFI for each text\n",
    "updated_df['gfi'] = updated_df['text'].apply(calculate_gfi)\n",
    "\n",
    "# Initialize TF-IDF vectorizer\n",
    "tfidf_vectorizer = TfidfVectorizer()\n",
    "\n",
    "# Fit TF-IDF vectorizer and transform text data\n",
    "tfidf_matrix = tfidf_vectorizer.fit_transform(updated_df['text'])\n",
    "\n",
    "# Concatenate TF-IDF matrix with GFI column\n",
    "from scipy.sparse import hstack\n",
    "features = hstack((tfidf_matrix, np.array(updated_df['gfi'])[:, None]))"
   ]
  },
  {
   "cell_type": "code",
   "execution_count": 113,
   "id": "15640717",
   "metadata": {},
   "outputs": [],
   "source": [
    "#Split data into random train and test data in a ratio of 70% and 30% respectively\n",
    "X_train, X_test, y_train, y_test = train_test_split(features, updated_df['type'], test_size=0.3, random_state=42)"
   ]
  },
  {
   "cell_type": "markdown",
   "id": "16319110",
   "metadata": {},
   "source": [
    "## Baseline Performance: PassiveAgressive Classifier"
   ]
  },
  {
   "cell_type": "code",
   "execution_count": null,
   "id": "a3bba175",
   "metadata": {},
   "outputs": [],
   "source": [
    "PassiveAggressiveClassifier = PassiveAggressiveClassifier() \n",
    "PassiveAggressiveClassifier.fit(X_train, y_train) "
   ]
  },
  {
   "cell_type": "code",
   "execution_count": null,
   "id": "815e32a3",
   "metadata": {},
   "outputs": [],
   "source": [
    "#PassiveAggressive Prediction\n",
    "PA_model_prediction = PassiveAggressiveClassifier.predict(test_data)"
   ]
  },
  {
   "cell_type": "code",
   "execution_count": null,
   "id": "44f6a572",
   "metadata": {},
   "outputs": [],
   "source": [
    "#PassiveAggressive Accuracy Level Evaluation\n",
    "print(f\"Test Set Accuracy : {accuracy_score(y_test, PA_model_prediction) * 100} %\\n\\n\") "
   ]
  },
  {
   "cell_type": "code",
   "execution_count": null,
   "id": "b3fdc590",
   "metadata": {
    "scrolled": true
   },
   "outputs": [],
   "source": [
    "#Baseline Model Classification Report\n",
    "print(f\"PassiveAgressive Classification Report : \\n\\n{classification_report(y_test, PA_model_prediction)}\")"
   ]
  },
  {
   "cell_type": "markdown",
   "id": "ea132862",
   "metadata": {},
   "source": [
    "## Comparison with other Classification/Regression Models"
   ]
  },
  {
   "cell_type": "markdown",
   "id": "4155f734",
   "metadata": {},
   "source": [
    "## Logistic Regression Model"
   ]
  },
  {
   "cell_type": "code",
   "execution_count": null,
   "id": "acaecdc8",
   "metadata": {
    "scrolled": true
   },
   "outputs": [],
   "source": [
    "LogisticRegression = LogisticRegression()\n",
    "LogisticRegression.fit(training_data,y_train)"
   ]
  },
  {
   "cell_type": "code",
   "execution_count": null,
   "id": "77325088",
   "metadata": {},
   "outputs": [],
   "source": [
    "#LogisticRegression Prediction\n",
    "LR_model_prediction = LogisticRegression.predict(test_data)"
   ]
  },
  {
   "cell_type": "code",
   "execution_count": null,
   "id": "2be5fb79",
   "metadata": {},
   "outputs": [],
   "source": [
    "#LogisticRegression Accuracy Level Evaluation\n",
    "print(f\"Test Set Accuracy : {accuracy_score(y_test, LR_model_prediction) * 100} %\\n\\n\") "
   ]
  },
  {
   "cell_type": "code",
   "execution_count": null,
   "id": "4c33876b",
   "metadata": {},
   "outputs": [],
   "source": [
    "#Logistic Regression Model Classification Report\n",
    "print(f\" Logistic Regression Classification Report : \\n\\n{classification_report(y_test, LR_model_prediction)}\")"
   ]
  },
  {
   "cell_type": "markdown",
   "id": "36367f27",
   "metadata": {},
   "source": [
    "## Multinomial Naive Bayes Classification Model"
   ]
  },
  {
   "cell_type": "code",
   "execution_count": null,
   "id": "c0962e86",
   "metadata": {},
   "outputs": [],
   "source": [
    "MultinomialNaiveBayes = MultinomialNB()\n",
    "MultinomialNaiveBayes.fit(training_data,y_train)"
   ]
  },
  {
   "cell_type": "code",
   "execution_count": null,
   "id": "35d9842e",
   "metadata": {},
   "outputs": [],
   "source": [
    "#Multinomial Naive Bayes Prediction\n",
    "MultiNB_model_prediction = MultinomialNaiveBayes.predict(test_data)"
   ]
  },
  {
   "cell_type": "code",
   "execution_count": null,
   "id": "72735de1",
   "metadata": {},
   "outputs": [],
   "source": [
    "#Multinomial Naive Bayes Accuracy Level Evaluation\n",
    "print(f\"Test Set Accuracy : {accuracy_score(y_test, MultiNB_model_prediction) * 100} %\\n\\n\") "
   ]
  },
  {
   "cell_type": "code",
   "execution_count": null,
   "id": "7db91c7a",
   "metadata": {},
   "outputs": [],
   "source": [
    "#Multinomial Naive Bayes Model Classification Report\n",
    "print(f\" Multinomial Naive Bayes Classification Report : \\n\\n{classification_report(y_test, MultiNB_model_prediction)}\")"
   ]
  },
  {
   "cell_type": "markdown",
   "id": "ade2f5c5",
   "metadata": {},
   "source": [
    "## Extreme Gradient Boosting Classification Model"
   ]
  },
  {
   "cell_type": "code",
   "execution_count": null,
   "id": "de4b1bf6",
   "metadata": {
    "scrolled": false
   },
   "outputs": [],
   "source": [
    "XGBClassifier = XGBClassifier()\n",
    "XGBClassifier.fit(training_data,y_train)"
   ]
  },
  {
   "cell_type": "code",
   "execution_count": null,
   "id": "85a66e19",
   "metadata": {},
   "outputs": [],
   "source": [
    "# Extreme Gradient Boosting Prediction\n",
    "XGB_model_prediction = XGBClassifier.predict(test_data)"
   ]
  },
  {
   "cell_type": "code",
   "execution_count": null,
   "id": "791c5a70",
   "metadata": {},
   "outputs": [],
   "source": [
    "# Extreme Gradient Boosting Accuracy Level Evaluation\n",
    "print(f\"Test Set Accuracy : {accuracy_score(y_test, XGB_model_prediction) * 100} %\\n\\n\") "
   ]
  },
  {
   "cell_type": "code",
   "execution_count": null,
   "id": "e2c59676",
   "metadata": {
    "scrolled": true
   },
   "outputs": [],
   "source": [
    "# Extreme Gradient Boosting Classification Report\n",
    "print(f\" Extreme Gradient Boosting Classification Report : \\n\\n{classification_report(y_test, XGB_model_prediction)}\")"
   ]
  },
  {
   "cell_type": "markdown",
   "id": "5ec8dfc5",
   "metadata": {},
   "source": [
    "## Fake News Detection Using Extreme Gradient Boosting Classification Model"
   ]
  },
  {
   "cell_type": "code",
   "execution_count": null,
   "id": "c21bc5f6",
   "metadata": {},
   "outputs": [],
   "source": [
    "#Verification Alert Function\n",
    "def news_prediction(n):\n",
    "    if n == 0:\n",
    "        return \"Warning! This is fake news!\"\n",
    "    elif n == 1:\n",
    "        return \"This news is real!\""
   ]
  },
  {
   "cell_type": "code",
   "execution_count": null,
   "id": "9a0fb5ef",
   "metadata": {},
   "outputs": [],
   "source": [
    "#Compiled main demo function\n",
    "def news_testing(news):\n",
    "    TestNews = {\"text\":[news]}\n",
    "    new_test = pd.DataFrame(TestNews)\n",
    "    new_test[\"text\"] = new_test[\"text\"].apply(text_cleaning) \n",
    "    new_test2 = new_test[\"text\"]\n",
    "    test_Vector = feature_extractor.transform(new_test2)\n",
    "    XGB_model_prediction = XGBClassifier.predict(test_Vector)\n",
    "\n",
    "    return print(\"\\nXGB Prediction: {}\".format(news_prediction(XGB_model_prediction[0])))"
   ]
  },
  {
   "cell_type": "markdown",
   "id": "91b8a529",
   "metadata": {},
   "source": [
    "## Demo with News Data"
   ]
  },
  {
   "cell_type": "code",
   "execution_count": null,
   "id": "e8f9cb75",
   "metadata": {
    "scrolled": true
   },
   "outputs": [],
   "source": [
    "news = str(input())\n",
    "news_testing(news)"
   ]
  }
 ],
 "metadata": {
  "kernelspec": {
   "display_name": "Python 3 (ipykernel)",
   "language": "python",
   "name": "python3"
  },
  "language_info": {
   "codemirror_mode": {
    "name": "ipython",
    "version": 3
   },
   "file_extension": ".py",
   "mimetype": "text/x-python",
   "name": "python",
   "nbconvert_exporter": "python",
   "pygments_lexer": "ipython3",
   "version": "3.10.11"
  }
 },
 "nbformat": 4,
 "nbformat_minor": 5
}
